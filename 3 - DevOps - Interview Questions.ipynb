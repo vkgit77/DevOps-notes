{
 "cells": [
  {
   "cell_type": "markdown",
   "metadata": {},
   "source": [
    "###### 1) Explain DevOps?"
   ]
  },
  {
   "cell_type": "code",
   "execution_count": null,
   "metadata": {},
   "outputs": [],
   "source": [
    "The DevOps is a combination of two words one is software Development, and second is Operations. \n",
    "It allows a single team to handle the entire application lifecycle, from development to testing, \n",
    "deployment, and operations. \n",
    "\n",
    "DevOps helps you to reduce the disconnection between software developers, \n",
    "quality assurance (QA) engineers, and system administrators."
   ]
  },
  {
   "cell_type": "markdown",
   "metadata": {},
   "source": [
    "###### 2) What are the principles of DevOps?"
   ]
  },
  {
   "cell_type": "code",
   "execution_count": null,
   "metadata": {},
   "outputs": [],
   "source": [
    "The principles behind DevOps are:\n",
    "\n",
    "- Continous Integration (CI)\n",
    "- Continuous deployment (CD())\n",
    "- Infrastructure as code\n",
    "- Automation\n",
    "- Monitoring\n",
    "- Security"
   ]
  },
  {
   "cell_type": "markdown",
   "metadata": {},
   "source": [
    "###### 3) How DevOps is helpful to developers?"
   ]
  },
  {
   "cell_type": "code",
   "execution_count": null,
   "metadata": {},
   "outputs": [],
   "source": [
    "DevOps is very helpful for developers to fix the bugs and quickly implement the new features. \n",
    "It also helps in more transparent communication between the team members."
   ]
  },
  {
   "cell_type": "markdown",
   "metadata": {},
   "source": [
    "###### 4) Explain some popular tools of DevOps?"
   ]
  },
  {
   "cell_type": "code",
   "execution_count": null,
   "metadata": {},
   "outputs": [],
   "source": [
    "Here are some popular tools of DevOps, such as:\n",
    "\n",
    "Jenkins: \n",
    "   - Jenkins is a DevOps tool for monitoring the execution of repeated tasks. \n",
    "     Jenkins is a software that allows continuous integration. \n",
    "     And it will be installed on a server where the central build will take place.\n",
    "    \n",
    "Ansible: \n",
    "    - Ansible is a leading DevOps tool. \n",
    "      Ansible is an open-source IT engine that automates application deployment,\n",
    "      cloud provisioning, intra service orchestration, and other IT tools.\n",
    "    \n",
    "Nagios: \n",
    "    - Nagios is one of the more useful tools for DevOps. \n",
    "      It can determine the errors and rectify them with the help of network, infrastructure, server, and log monitoring systems.\n",
    "\n",
    "Docker: \n",
    "    - Docker is a high-end DevOps tool that allows building, ship, and run distributed applications on multiple systems.\n",
    "\n",
    "Git: \n",
    "    - Git is an open-source distributed version control system that is freely available for everyone. \n",
    "      It is designed to handle minor to major projects with speed and efficiency."
   ]
  },
  {
   "cell_type": "markdown",
   "metadata": {},
   "source": [
    "###### 5) What are the prerequisites for the DevOps implementation?"
   ]
  },
  {
   "cell_type": "code",
   "execution_count": null,
   "metadata": {},
   "outputs": [],
   "source": [
    "Following are some useful prerequisites for DevOps implementation:\n",
    "\n",
    "- Proper communication between the team members.\n",
    "- At least one version control software.\n",
    "- Automated testing.\n",
    "- Automated deployment."
   ]
  },
  {
   "cell_type": "markdown",
   "metadata": {},
   "source": [
    "###### 6) What are the core operation of DevOps with application development and infrastructure?"
   ]
  },
  {
   "cell_type": "code",
   "execution_count": null,
   "metadata": {},
   "outputs": [],
   "source": [
    "The core operation of DevOps with application development and infrastructure are:\n",
    "\n",
    "Application development:-\n",
    "=======================\n",
    "- Code building\n",
    "- Code coverage\n",
    "- Unit testing\n",
    "- Packaging\n",
    "- Deployment\n",
    "\n",
    "Infrastructure:-\n",
    "================\n",
    "- Provisioning\n",
    "- Configuration\n",
    "- Orchestration\n",
    "- Deployment"
   ]
  },
  {
   "cell_type": "markdown",
   "metadata": {},
   "source": [
    "###### 7) What are the key components of DevOps?"
   ]
  },
  {
   "cell_type": "code",
   "execution_count": null,
   "metadata": {},
   "outputs": [],
   "source": [
    "The most important key components of DevOps are:\n",
    "\n",
    "- Continuous integration\n",
    "- Continuous testing\n",
    "- Continuous delivery\n",
    "- Continuous montering"
   ]
  },
  {
   "cell_type": "markdown",
   "metadata": {},
   "source": [
    "###### 8) What is Vagrant?"
   ]
  },
  {
   "cell_type": "code",
   "execution_count": null,
   "metadata": {},
   "outputs": [],
   "source": [
    "A Vagrant is a tool of DevOps that can create and manage virtualized environments for testing and developing software."
   ]
  },
  {
   "cell_type": "markdown",
   "metadata": {},
   "source": [
    "###### 9) What are the technical and business benefits of DevOps work culture?"
   ]
  },
  {
   "cell_type": "code",
   "execution_count": null,
   "metadata": {},
   "outputs": [],
   "source": [
    "Following are the technical and business benefits of DevOps work culture:\n",
    "\n",
    "Technical benefits:-\n",
    "===================\n",
    "- Less complex problems to fix.\n",
    "- Continuous software delivery.\n",
    "- Faster bugs resolution.\n",
    "\n",
    "Business benefits:-\n",
    "==================\n",
    "- Most stable operating environments.\n",
    "- More time available to add product value.\n",
    "- Faster delivery of features for customer satisfaction."
   ]
  },
  {
   "cell_type": "markdown",
   "metadata": {},
   "source": [
    "###### 10) What is version control?"
   ]
  },
  {
   "cell_type": "code",
   "execution_count": null,
   "metadata": {},
   "outputs": [],
   "source": [
    "It is a system that records the changes to a file or set of files over time so you can recall specific versions.\n",
    "\n",
    "The version control system consists of a central shared repository where teammates can commit the changes \n",
    "to a file or set of files. It allows:\n",
    "\n",
    "- To revert the file to the previous state.\n",
    "- To compare changes over time.\n",
    "- To revert the entire project to a previous state.\n",
    "- To see who modified something in the files."
   ]
  },
  {
   "cell_type": "markdown",
   "metadata": {},
   "source": [
    "###### 11) Which scripting tools are used in DevOps?"
   ]
  },
  {
   "cell_type": "code",
   "execution_count": null,
   "metadata": {},
   "outputs": [],
   "source": [
    "Both Shell scripting, Python and Ruby scripting tools are used in the DevOps."
   ]
  },
  {
   "cell_type": "markdown",
   "metadata": {},
   "source": [
    "###### 12) What is the role of AWS in DevOps?"
   ]
  },
  {
   "cell_type": "code",
   "execution_count": null,
   "metadata": {},
   "outputs": [],
   "source": [
    "AWS is a cloud-based service provided by Amazon that ensures scalability through unlimited computing power and storage.\n",
    "It empowers IT enterprises to develop and deliver experienced products and deploy applications on the cloud."
   ]
  },
  {
   "cell_type": "markdown",
   "metadata": {},
   "source": [
    "###### 13) How many cloud platform which is used for DevOps implementation?"
   ]
  },
  {
   "cell_type": "code",
   "execution_count": null,
   "metadata": {},
   "outputs": [],
   "source": [
    "Here are some cloud computing platform used for DevOps implementation, such as:\n",
    "\n",
    "- Google Cloud\n",
    "- Amazon Web Services\n",
    "- Microsoft Azure"
   ]
  },
  {
   "cell_type": "markdown",
   "metadata": {},
   "source": [
    "###### 14) Name some network monitoring tools?"
   ]
  },
  {
   "cell_type": "code",
   "execution_count": null,
   "metadata": {},
   "outputs": [],
   "source": [
    "Some most essential network monitoring tools are:\n",
    "\n",
    "- Nagios\n",
    "- OpenNMS\n",
    "- Splunk\n",
    "- Icinga 2\n",
    "- Wireshark"
   ]
  },
  {
   "cell_type": "markdown",
   "metadata": {},
   "source": [
    "###### 15. Define DevOps Automation?"
   ]
  },
  {
   "cell_type": "code",
   "execution_count": null,
   "metadata": {},
   "outputs": [],
   "source": [
    "- Automation is the crucial need for DevOps practices, and automate everything is the fundamental principle of DevOps.\n",
    "\n",
    "- Automation kick starts from the code generation on the developer's machine, until the code is pushed to the code,\n",
    "  to monitor the application and system in the production.\n",
    "\n",
    "- Automation in DevOps boosts speed, consistency, higher accuracy, reliability, and increases the number of deliveries."
   ]
  },
  {
   "cell_type": "markdown",
   "metadata": {},
   "source": [
    "###### 16) What is the DevOps pipeline?"
   ]
  },
  {
   "cell_type": "code",
   "execution_count": null,
   "metadata": {},
   "outputs": [],
   "source": [
    "- A pipeline in software engineering team is a set of automated processes which allows\n",
    "  DevOps professionals and developer to reliably and efficiently compile, build, and \n",
    "  deploy their code to their production compute platforms."
   ]
  },
  {
   "cell_type": "markdown",
   "metadata": {},
   "source": [
    "###### 17) What is Azure DevOps?"
   ]
  },
  {
   "cell_type": "code",
   "execution_count": null,
   "metadata": {},
   "outputs": [],
   "source": [
    "Azure DevOps is also known as Microsoft visual studio team services (VSTS). \n",
    "It is a set of collaborative development tools built for the cloud.\n",
    "VSTS was commonly used as a standalone term, and Azure DevOps is a platform \n",
    "which is made up of a few different products, such as:\n",
    "\n",
    "- Azure Test Plans\n",
    "- Azure Boards\n",
    "- Azure Repos\n",
    "- Azure Pipeline\n",
    "- Azure Artifacts"
   ]
  },
  {
   "cell_type": "markdown",
   "metadata": {},
   "source": [
    "###### 18) Which makes AWS DevOps highly accessible?"
   ]
  },
  {
   "cell_type": "code",
   "execution_count": null,
   "metadata": {},
   "outputs": [],
   "source": [
    "Here are some reasons which make AWS DevOps a highly popular, such as:\n",
    "\n",
    "- AWS CloudFormation\n",
    "- AWS EC2\n",
    "- AWS CloudWatch\n",
    "- AWS CodePipeline"
   ]
  },
  {
   "cell_type": "markdown",
   "metadata": {},
   "source": [
    "###### 19) What is the Build in DevOps?"
   ]
  },
  {
   "cell_type": "code",
   "execution_count": null,
   "metadata": {},
   "outputs": [],
   "source": [
    "The build is a method in which the source code is put together to check whether it works as a single unit. \n",
    "\n",
    "In the build creation process, the source code will undergo compilation, testing, inspection, and deployment."
   ]
  },
  {
   "cell_type": "markdown",
   "metadata": {},
   "source": [
    "###### 20) Name three important DevOps KPIs?"
   ]
  },
  {
   "cell_type": "code",
   "execution_count": null,
   "metadata": {},
   "outputs": [],
   "source": [
    "Three most important DevOps KPIs are:\n",
    "\n",
    "- Deployment frequency\n",
    "- Percentage of failed deployments\n",
    "- Mean time to failure recovery\n",
    "\n",
    "Note:- KPI means Key Performanc Indicator"
   ]
  }
 ],
 "metadata": {
  "kernelspec": {
   "display_name": "Python 3",
   "language": "python",
   "name": "python3"
  },
  "language_info": {
   "codemirror_mode": {
    "name": "ipython",
    "version": 3
   },
   "file_extension": ".py",
   "mimetype": "text/x-python",
   "name": "python",
   "nbconvert_exporter": "python",
   "pygments_lexer": "ipython3",
   "version": "3.9.5"
  }
 },
 "nbformat": 4,
 "nbformat_minor": 4
}
