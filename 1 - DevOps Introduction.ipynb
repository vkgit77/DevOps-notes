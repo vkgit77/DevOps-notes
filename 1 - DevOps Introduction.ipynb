{
 "cells": [
  {
   "cell_type": "markdown",
   "metadata": {},
   "source": [
    "######   KAIS IT SERVICES Pvt Ltd. "
   ]
  },
  {
   "cell_type": "markdown",
   "metadata": {},
   "source": [
    "#### 1. What is DevOps?"
   ]
  },
  {
   "cell_type": "code",
   "execution_count": null,
   "metadata": {},
   "outputs": [],
   "source": [
    "- The DevOps is a combination of two words, one is software Development, and second is Operations. \n",
    "\n",
    "- This allows a single team to handle the entire application lifecycle,\n",
    "  from development to testing, deployment, and operations.\n",
    "    \n",
    "- It is a culture to promote the development and operation process collectively.\n",
    "    \n",
    "- DevOps helps us to reduce the disconnection between \n",
    "  software developers, quality assurance (QA) engineers, and system administrators."
   ]
  },
  {
   "attachments": {
    "image.png": {
     "image/png": "[encoded data removed]"
    }
   },
   "cell_type": "markdown",
   "metadata": {},
   "source": [
    "![image.png](attachment:image.png)"
   ]
  },
  {
   "cell_type": "code",
   "execution_count": null,
   "metadata": {},
   "outputs": [],
   "source": [
    "1. DevOps is a practice, process, methodology or set of rules.\n",
    "   DEV+OPS = DEVOPS – Combination of developer and operation activities.\n",
    "   Main aim is to reduce the gap between developer activities and operational activities\n",
    "\n",
    "2. DevOps promotes collaboration between Development and Operations team to deploy code\n",
    "   to production faster in an automated & repeatable way.\n",
    "\n",
    "3. DevOps helps to increase organization speed to deliver applications and services. \n",
    "   It also allows organizations to serve their customers better and compete more strongly in the market.\n",
    "    \n",
    "4. DevOps has become one of the most valuable business disciplines for enterprises or organizations. \n",
    "   With the help of DevOps, quality, and speed of the application delivery has improved to a great extent.\n",
    "    \n",
    "5. DevOps is nothing but a practice or methodology of making \"Developers\" and \"Operations\" folks work together. \n",
    "   DevOps represents a change in the IT culture with a complete focus on rapid IT service delivery through the \n",
    "   adoption of agile practices in the context of a system-oriented approach.\n",
    "\n",
    "6. In DevOPs, each and every activity is a predefined with set of rules & regulations. \n",
    "   Like where we have to store the code, when we have to build the code,\n",
    "   where we have to deploy the code and how many places we have to deploy the code etc. \n",
    "\n",
    "7. Dev Ops is a automated process. We need to deliver the code continuously by using these devops tools."
   ]
  },
  {
   "cell_type": "markdown",
   "metadata": {},
   "source": [
    "#### 2. Why DevOps?"
   ]
  },
  {
   "cell_type": "code",
   "execution_count": null,
   "metadata": {},
   "outputs": [],
   "source": [
    "We need to understand why do we need the DevOps over the other methods.\n",
    "\n",
    "- The operation and development teams works in complete isolation.\n",
    "\n",
    "- After the design-build, the testing and deployment are performed respectively. \n",
    "  That's why they consumes more time than actual build cycles.\n",
    "    - \n",
    "- Without the use of DevOps, the team members are spending a large amount of time on\n",
    "  designing, testing, and deploying instead of building the project.\n",
    "    \n",
    "- Manual code deployment leads to human errors in production.\n",
    "\n",
    "- Coding and operation teams have their separate timelines and are not in synch, causing further delays."
   ]
  },
  {
   "cell_type": "markdown",
   "metadata": {},
   "source": [
    "#### 3. DevOps Workflow"
   ]
  },
  {
   "cell_type": "code",
   "execution_count": null,
   "metadata": {},
   "outputs": [],
   "source": [
    "- Who will involve in DevOps? - Developers, Build team, Release team, QA team, System Admins.\n",
    "\n",
    "-  We have to go with DevOps, whenever we have to go for automating the process of build & deployment of the code. \n",
    "\n",
    "- Developers always develop the code by using various software’s/programming langauges such as java, c, c++, .NET etc.\n",
    "\n",
    "- After developing the code, we need to compile the code. \n",
    "\n",
    "- After compilation, a output file will be generated where system can understand. \n",
    "  The code which we are developing is in human understandable language. \n",
    "  To make system understandable, we need to compile the code.\n",
    "  For compilation, there are so many tools (also called as Build tools) such as Maven, Ant, gradle etc. \n",
    "    \n",
    "- After compiling the code, we will get some executable files(.exe). \n",
    "  We need to place these executable files (.exe) in some application servers \n",
    "  such as tomcat server, web logic server, WebSphere servers.\n",
    "\n",
    "- Once these executable files (. War, ear,.jar) are placed in application servers, \n",
    "  we can access the application through browser.  \n",
    "    \n",
    "- First Build team will deploy code into dev server and inform to development team. \n",
    "  Develop team will perform high level test and ask build team to push the code to QA servers. \n",
    "  Testing team will perform functional/Regression testing and communicate to build team if they found any bugs. \n",
    "  Build team communicates to dev team on bugs and dev team will fix the bugs. \n",
    "  Again build team push the code to QA. Servers and this practice will go on until QA found zero bugs. \n",
    "  Finally, we will place the code in Stage & Production servers. "
   ]
  },
  {
   "cell_type": "markdown",
   "metadata": {},
   "source": [
    "#### 4. How to implement DevOps?"
   ]
  },
  {
   "cell_type": "code",
   "execution_count": null,
   "metadata": {},
   "outputs": [],
   "source": [
    "We can implement Dev Ops with the help of :- \n",
    "    \n",
    "  - CI/CD tools\n",
    "  - Configuration management tools\n",
    "  - source code management tools\n",
    "  - cloud computing and \n",
    "  - virtualization tools. "
   ]
  },
  {
   "cell_type": "markdown",
   "metadata": {},
   "source": [
    "###### Source Management tools "
   ]
  },
  {
   "cell_type": "code",
   "execution_count": null,
   "metadata": {},
   "outputs": [],
   "source": [
    "Source Management tools – SVN, GIT, TFS, CVS, Perforce. \n",
    "\n",
    "These tools are mainly served to store the code with various versions.\n",
    "We will come to know all the minor and major changes of the code with date & time."
   ]
  },
  {
   "cell_type": "markdown",
   "metadata": {},
   "source": [
    "###### Build Tools"
   ]
  },
  {
   "cell_type": "code",
   "execution_count": null,
   "metadata": {},
   "outputs": [],
   "source": [
    "Build Tools – Ant, Maven, Gradle, Apache builder, Visual build.\n",
    "\n",
    " - These tools are used to build the code and it generates executable files.  \n",
    "    \n",
    " - By using build tools, we will get the executable files in various formats like .jar, .war, .ear etc \n",
    "\n",
    " - CI & CD tools – Jenkins, Hudson, Honeypot, Bamboo.\n",
    "    \n",
    " - All the process are configured by using CI & CD tools.\n",
    "\n",
    " - We need to configure SCM, Build & application servers using CI & CD tools.\n",
    "    \n",
    " - It is an automated process where we can predefine when to pull the code from SCM.\n",
    "\n",
    " - When to build by using build tools and where to deploy the executable files."
   ]
  },
  {
   "cell_type": "markdown",
   "metadata": {},
   "source": [
    "###### Cloud Computing offerings"
   ]
  },
  {
   "cell_type": "code",
   "execution_count": null,
   "metadata": {},
   "outputs": [],
   "source": [
    "Cloud Computing offerings – AWS, IBM Cloud, Microsoft Azure, Oracle cloud.\n",
    "\n",
    "- Cloud computing is a type of internet-based computing that provides shared computer processing resources. \n",
    "\n",
    "- They will provide servers on rental basis. \n",
    "\n",
    "- Based on usage, we can enhance or reduce the capacity.\n",
    "\n",
    "- Configuration Management tools – Chef, Puppet, Ansible.\n",
    "\n",
    "- CM tools are used to deploy the code on multiple servers parallelly.\n",
    "\n",
    "- We can deploy the same code on multiple servers so that we can access the application quickly based on the load. "
   ]
  },
  {
   "cell_type": "markdown",
   "metadata": {},
   "source": [
    "###### Application Servers"
   ]
  },
  {
   "cell_type": "code",
   "execution_count": null,
   "metadata": {},
   "outputs": [],
   "source": [
    "Application Servers – Tomcat, JBoss, WebLogic, WebSphere.\n",
    "\n",
    "- All executable files are deployed in Application server to access the applications.\n",
    "\n",
    "- All the code changes from SCM tools will keep continuously build and \n",
    "  deploy the code in application servers so that we can access all the minor and major requirements. "
   ]
  },
  {
   "cell_type": "markdown",
   "metadata": {},
   "source": [
    "#### 5. How is Automation applied in DevOps:"
   ]
  },
  {
   "cell_type": "code",
   "execution_count": null,
   "metadata": {},
   "outputs": [],
   "source": [
    "DevOps forces the operations team, in addition to development activities, to automate all their activities, like\n",
    "\n",
    " - provisioning the servers \n",
    " - configuring the servers\n",
    " - configuring the networks\n",
    " - configuring firewalls\n",
    " - monitoring the application in the production system.\n",
    "    \n",
    "Hence to answer what to automate: \n",
    "    \n",
    "    - it is the build trigger\n",
    "    - compiling and building\n",
    "    - deploying or installing\n",
    "    - automating infrastructure set up as a coded script\n",
    "    - environment configurations as a coded script\n",
    "    - needless to mention testing\n",
    "    - post-deployment life performance monitoring in\n",
    "           - live logs monitoring\n",
    "           - monitoring alerts\n",
    "           - pushing notifications to live and\n",
    "           - getting alerts from live in case of any errors and warnings etc.,"
   ]
  },
  {
   "cell_type": "code",
   "execution_count": null,
   "metadata": {},
   "outputs": [],
   "source": [
    "Selection of a right framework and automation tool is the key requirement for automation in DevOps.\n",
    "\n",
    "There are a lot of tools available in the market, both open source and licensed tools,\n",
    "which supports the end to end automation of the entire delivery pipeline,\n",
    "including activities performed by Ops team, provisioning machines, spinning automated servers, \n",
    "configuring networks, firewalls, and even monitoring the performance of the software.\n",
    "\n",
    "Also, certain organizations have developed their own framework \n",
    "so as to integrate the end to end process of DevOps which starts\n",
    "from code commit to code deployment including documentation which\n",
    "is a single integrated tool and team don’t have to go outside the \n",
    "framework for anything related to program, \n",
    "be it version control, test case writing, review, test case results dumping, analysis etc.,\n",
    "\n",
    "E.g: puppet, Anisble, Azure resource manager, chef etc."
   ]
  },
  {
   "cell_type": "markdown",
   "metadata": {},
   "source": [
    "#### 6. Advantages & Disadvantages"
   ]
  },
  {
   "cell_type": "code",
   "execution_count": null,
   "metadata": {},
   "outputs": [],
   "source": [
    "ADVANTAGES:- \n",
    "\n",
    "- DevOps is an excellent approach for quick development and deployment of applications.\n",
    "- It responds faster to the market changes to improve business growth.\n",
    "- DevOps escalate business profit by decreasing software delivery time and transportation costs.\n",
    "- DevOps clears the descriptive process, which gives clarity on product development and delivery.\n",
    "- It improves customer experience and satisfaction.\n",
    "- DevOps simplifies collaboration and places all tools in the cloud for customers to access.\n",
    "- DevOps means collective responsibility, which leads to better team engagement and productivity."
   ]
  },
  {
   "cell_type": "code",
   "execution_count": null,
   "metadata": {},
   "outputs": [],
   "source": [
    "DISADVANTAGES:- \n",
    "    \n",
    "- DevOps professional or expert's developers are less available.\n",
    "- Adopting new DevOps technology into the industries is hard to manage in short time.\n",
    "- Lack of DevOps knowledge can be a problem in the continuous integration of automation projects."
   ]
  }
 ],
 "metadata": {
  "kernelspec": {
   "display_name": "Python 3 (ipykernel)",
   "language": "python",
   "name": "python3"
  },
  "language_info": {
   "codemirror_mode": {
    "name": "ipython",
    "version": 3
   },
   "file_extension": ".py",
   "mimetype": "text/x-python",
   "name": "python",
   "nbconvert_exporter": "python",
   "pygments_lexer": "ipython3",
   "version": "3.11.2"
  }
 },
 "nbformat": 4,
 "nbformat_minor": 4
}
